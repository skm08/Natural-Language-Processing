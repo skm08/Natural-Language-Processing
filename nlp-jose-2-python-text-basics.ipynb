{
 "cells": [
  {
   "cell_type": "code",
   "execution_count": 1,
   "id": "91fc9f35",
   "metadata": {
    "_cell_guid": "d49eca1a-3495-4ddc-a505-11900b0482c9",
    "_uuid": "40896adc-1ab9-425b-b6da-01e9c748a189",
    "execution": {
     "iopub.execute_input": "2024-06-06T16:24:46.754549Z",
     "iopub.status.busy": "2024-06-06T16:24:46.753654Z",
     "iopub.status.idle": "2024-06-06T16:24:46.766088Z",
     "shell.execute_reply": "2024-06-06T16:24:46.764926Z"
    },
    "papermill": {
     "duration": 0.019883,
     "end_time": "2024-06-06T16:24:46.768563",
     "exception": false,
     "start_time": "2024-06-06T16:24:46.748680",
     "status": "completed"
    },
    "tags": []
   },
   "outputs": [],
   "source": [
    "person = \"Jose\""
   ]
  },
  {
   "cell_type": "code",
   "execution_count": 2,
   "id": "7d7376d6",
   "metadata": {
    "_cell_guid": "6b621a87-b79c-42f8-9128-b07ff92564ea",
    "_uuid": "85b54180-c61e-49a4-bdf3-e2d85ff3d7e5",
    "execution": {
     "iopub.execute_input": "2024-06-06T16:24:46.775952Z",
     "iopub.status.busy": "2024-06-06T16:24:46.775516Z",
     "iopub.status.idle": "2024-06-06T16:24:46.781101Z",
     "shell.execute_reply": "2024-06-06T16:24:46.780066Z"
    },
    "papermill": {
     "duration": 0.012445,
     "end_time": "2024-06-06T16:24:46.784009",
     "exception": false,
     "start_time": "2024-06-06T16:24:46.771564",
     "status": "completed"
    },
    "tags": []
   },
   "outputs": [
    {
     "name": "stdout",
     "output_type": "stream",
     "text": [
      "my name is Jose\n"
     ]
    }
   ],
   "source": [
    "print(\"my name is {}\".format(person))"
   ]
  },
  {
   "cell_type": "code",
   "execution_count": 3,
   "id": "36f3f93a",
   "metadata": {
    "_cell_guid": "48da404b-fa6b-467c-9328-e2208db8957f",
    "_uuid": "1b493d5c-0e3c-4ba6-8e8f-e6a9c6f39282",
    "execution": {
     "iopub.execute_input": "2024-06-06T16:24:46.792743Z",
     "iopub.status.busy": "2024-06-06T16:24:46.791716Z",
     "iopub.status.idle": "2024-06-06T16:24:46.797248Z",
     "shell.execute_reply": "2024-06-06T16:24:46.796221Z"
    },
    "papermill": {
     "duration": 0.012904,
     "end_time": "2024-06-06T16:24:46.800236",
     "exception": false,
     "start_time": "2024-06-06T16:24:46.787332",
     "status": "completed"
    },
    "tags": []
   },
   "outputs": [
    {
     "name": "stdout",
     "output_type": "stream",
     "text": [
      "my name is Jose\n"
     ]
    }
   ],
   "source": [
    "print(f\"my name is {person}\")"
   ]
  },
  {
   "cell_type": "code",
   "execution_count": 4,
   "id": "9af96cb6",
   "metadata": {
    "execution": {
     "iopub.execute_input": "2024-06-06T16:24:46.807751Z",
     "iopub.status.busy": "2024-06-06T16:24:46.807380Z",
     "iopub.status.idle": "2024-06-06T16:24:46.813109Z",
     "shell.execute_reply": "2024-06-06T16:24:46.811843Z"
    },
    "papermill": {
     "duration": 0.012497,
     "end_time": "2024-06-06T16:24:46.815742",
     "exception": false,
     "start_time": "2024-06-06T16:24:46.803245",
     "status": "completed"
    },
    "tags": []
   },
   "outputs": [
    {
     "name": "stdout",
     "output_type": "stream",
     "text": [
      "my number is 123\n"
     ]
    }
   ],
   "source": [
    "d = {'a':123, 'b':456}\n",
    "\n",
    "print(f\"my number is {d['a']}\")"
   ]
  },
  {
   "cell_type": "code",
   "execution_count": null,
   "id": "00488bee",
   "metadata": {
    "papermill": {
     "duration": 0.002762,
     "end_time": "2024-06-06T16:24:46.821546",
     "exception": false,
     "start_time": "2024-06-06T16:24:46.818784",
     "status": "completed"
    },
    "tags": []
   },
   "outputs": [],
   "source": []
  }
 ],
 "metadata": {
  "kaggle": {
   "accelerator": "none",
   "dataSources": [],
   "dockerImageVersionId": 30732,
   "isGpuEnabled": false,
   "isInternetEnabled": true,
   "language": "python",
   "sourceType": "notebook"
  },
  "kernelspec": {
   "display_name": "Python 3",
   "language": "python",
   "name": "python3"
  },
  "language_info": {
   "codemirror_mode": {
    "name": "ipython",
    "version": 3
   },
   "file_extension": ".py",
   "mimetype": "text/x-python",
   "name": "python",
   "nbconvert_exporter": "python",
   "pygments_lexer": "ipython3",
   "version": "3.10.13"
  },
  "papermill": {
   "default_parameters": {},
   "duration": 6.110522,
   "end_time": "2024-06-06T16:24:49.847412",
   "environment_variables": {},
   "exception": null,
   "input_path": "__notebook__.ipynb",
   "output_path": "__notebook__.ipynb",
   "parameters": {},
   "start_time": "2024-06-06T16:24:43.736890",
   "version": "2.5.0"
  }
 },
 "nbformat": 4,
 "nbformat_minor": 5
}
