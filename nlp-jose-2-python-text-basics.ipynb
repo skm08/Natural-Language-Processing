{
 "cells": [
  {
   "cell_type": "code",
   "execution_count": 1,
   "id": "b6e1b8df",
   "metadata": {
    "_cell_guid": "d49eca1a-3495-4ddc-a505-11900b0482c9",
    "_uuid": "40896adc-1ab9-425b-b6da-01e9c748a189",
    "execution": {
     "iopub.execute_input": "2024-06-07T05:31:55.755733Z",
     "iopub.status.busy": "2024-06-07T05:31:55.755255Z",
     "iopub.status.idle": "2024-06-07T05:31:55.769392Z",
     "shell.execute_reply": "2024-06-07T05:31:55.768294Z"
    },
    "papermill": {
     "duration": 0.031577,
     "end_time": "2024-06-07T05:31:55.771859",
     "exception": false,
     "start_time": "2024-06-07T05:31:55.740282",
     "status": "completed"
    },
    "tags": []
   },
   "outputs": [],
   "source": [
    "person = \"Jose\""
   ]
  },
  {
   "cell_type": "code",
   "execution_count": 2,
   "id": "6e7c63b7",
   "metadata": {
    "_cell_guid": "6b621a87-b79c-42f8-9128-b07ff92564ea",
    "_uuid": "85b54180-c61e-49a4-bdf3-e2d85ff3d7e5",
    "execution": {
     "iopub.execute_input": "2024-06-07T05:31:55.799352Z",
     "iopub.status.busy": "2024-06-07T05:31:55.798879Z",
     "iopub.status.idle": "2024-06-07T05:31:55.805969Z",
     "shell.execute_reply": "2024-06-07T05:31:55.804624Z"
    },
    "papermill": {
     "duration": 0.02402,
     "end_time": "2024-06-07T05:31:55.809028",
     "exception": false,
     "start_time": "2024-06-07T05:31:55.785008",
     "status": "completed"
    },
    "tags": []
   },
   "outputs": [
    {
     "name": "stdout",
     "output_type": "stream",
     "text": [
      "my name is Jose\n"
     ]
    }
   ],
   "source": [
    "print(\"my name is {}\".format(person))"
   ]
  },
  {
   "cell_type": "code",
   "execution_count": 3,
   "id": "95a4e747",
   "metadata": {
    "_cell_guid": "48da404b-fa6b-467c-9328-e2208db8957f",
    "_uuid": "1b493d5c-0e3c-4ba6-8e8f-e6a9c6f39282",
    "execution": {
     "iopub.execute_input": "2024-06-07T05:31:55.836425Z",
     "iopub.status.busy": "2024-06-07T05:31:55.836019Z",
     "iopub.status.idle": "2024-06-07T05:31:55.842666Z",
     "shell.execute_reply": "2024-06-07T05:31:55.841267Z"
    },
    "papermill": {
     "duration": 0.023302,
     "end_time": "2024-06-07T05:31:55.845186",
     "exception": false,
     "start_time": "2024-06-07T05:31:55.821884",
     "status": "completed"
    },
    "tags": []
   },
   "outputs": [
    {
     "name": "stdout",
     "output_type": "stream",
     "text": [
      "my name is Jose\n"
     ]
    }
   ],
   "source": [
    "print(f\"my name is {person}\")"
   ]
  },
  {
   "cell_type": "code",
   "execution_count": 4,
   "id": "bb4721e1",
   "metadata": {
    "execution": {
     "iopub.execute_input": "2024-06-07T05:31:55.873301Z",
     "iopub.status.busy": "2024-06-07T05:31:55.872866Z",
     "iopub.status.idle": "2024-06-07T05:31:55.879750Z",
     "shell.execute_reply": "2024-06-07T05:31:55.878431Z"
    },
    "papermill": {
     "duration": 0.023383,
     "end_time": "2024-06-07T05:31:55.882076",
     "exception": false,
     "start_time": "2024-06-07T05:31:55.858693",
     "status": "completed"
    },
    "tags": []
   },
   "outputs": [
    {
     "name": "stdout",
     "output_type": "stream",
     "text": [
      "my number is 123\n"
     ]
    }
   ],
   "source": [
    "d = {'a':123, 'b':456}\n",
    "\n",
    "print(f\"my number is {d['a']}\")"
   ]
  },
  {
   "cell_type": "code",
   "execution_count": 5,
   "id": "c4bee594",
   "metadata": {
    "execution": {
     "iopub.execute_input": "2024-06-07T05:31:55.908790Z",
     "iopub.status.busy": "2024-06-07T05:31:55.908363Z",
     "iopub.status.idle": "2024-06-07T05:31:55.914702Z",
     "shell.execute_reply": "2024-06-07T05:31:55.913376Z"
    },
    "papermill": {
     "duration": 0.022991,
     "end_time": "2024-06-07T05:31:55.917416",
     "exception": false,
     "start_time": "2024-06-07T05:31:55.894425",
     "status": "completed"
    },
    "tags": []
   },
   "outputs": [],
   "source": [
    "library = [('Author', 'Topic', 'Pages'), ('Twain', 'Rafting', 601), ('Feyman', 'Physics', 95), ('Hamilton', 'Mythology', 144)]"
   ]
  },
  {
   "cell_type": "code",
   "execution_count": 6,
   "id": "0c1c5d41",
   "metadata": {
    "execution": {
     "iopub.execute_input": "2024-06-07T05:31:55.946191Z",
     "iopub.status.busy": "2024-06-07T05:31:55.945777Z",
     "iopub.status.idle": "2024-06-07T05:31:55.954986Z",
     "shell.execute_reply": "2024-06-07T05:31:55.953673Z"
    },
    "papermill": {
     "duration": 0.027084,
     "end_time": "2024-06-07T05:31:55.957441",
     "exception": false,
     "start_time": "2024-06-07T05:31:55.930357",
     "status": "completed"
    },
    "tags": []
   },
   "outputs": [
    {
     "data": {
      "text/plain": [
       "[('Author', 'Topic', 'Pages'),\n",
       " ('Twain', 'Rafting', 601),\n",
       " ('Feyman', 'Physics', 95),\n",
       " ('Hamilton', 'Mythology', 144)]"
      ]
     },
     "execution_count": 6,
     "metadata": {},
     "output_type": "execute_result"
    }
   ],
   "source": [
    "library"
   ]
  },
  {
   "cell_type": "code",
   "execution_count": 7,
   "id": "3ae92430",
   "metadata": {
    "execution": {
     "iopub.execute_input": "2024-06-07T05:31:55.984917Z",
     "iopub.status.busy": "2024-06-07T05:31:55.984542Z",
     "iopub.status.idle": "2024-06-07T05:31:55.990669Z",
     "shell.execute_reply": "2024-06-07T05:31:55.989595Z"
    },
    "papermill": {
     "duration": 0.022737,
     "end_time": "2024-06-07T05:31:55.993205",
     "exception": false,
     "start_time": "2024-06-07T05:31:55.970468",
     "status": "completed"
    },
    "tags": []
   },
   "outputs": [
    {
     "name": "stdout",
     "output_type": "stream",
     "text": [
      "('Author', 'Topic', 'Pages')\n",
      "('Twain', 'Rafting', 601)\n",
      "('Feyman', 'Physics', 95)\n",
      "('Hamilton', 'Mythology', 144)\n"
     ]
    }
   ],
   "source": [
    "for book in library:\n",
    "    print(book)"
   ]
  },
  {
   "cell_type": "code",
   "execution_count": 8,
   "id": "23ec6f3b",
   "metadata": {
    "execution": {
     "iopub.execute_input": "2024-06-07T05:31:56.022306Z",
     "iopub.status.busy": "2024-06-07T05:31:56.021927Z",
     "iopub.status.idle": "2024-06-07T05:31:56.028204Z",
     "shell.execute_reply": "2024-06-07T05:31:56.026867Z"
    },
    "papermill": {
     "duration": 0.023794,
     "end_time": "2024-06-07T05:31:56.030945",
     "exception": false,
     "start_time": "2024-06-07T05:31:56.007151",
     "status": "completed"
    },
    "tags": []
   },
   "outputs": [
    {
     "name": "stdout",
     "output_type": "stream",
     "text": [
      "Author is Author\n",
      "Author is Twain\n",
      "Author is Feyman\n",
      "Author is Hamilton\n"
     ]
    }
   ],
   "source": [
    "for book in library:\n",
    "    print(f\"Author is {book[0]}\")"
   ]
  },
  {
   "cell_type": "code",
   "execution_count": 9,
   "id": "8a8b4302",
   "metadata": {
    "execution": {
     "iopub.execute_input": "2024-06-07T05:31:56.059418Z",
     "iopub.status.busy": "2024-06-07T05:31:56.058986Z",
     "iopub.status.idle": "2024-06-07T05:31:56.066077Z",
     "shell.execute_reply": "2024-06-07T05:31:56.064584Z"
    },
    "papermill": {
     "duration": 0.025133,
     "end_time": "2024-06-07T05:31:56.068936",
     "exception": false,
     "start_time": "2024-06-07T05:31:56.043803",
     "status": "completed"
    },
    "tags": []
   },
   "outputs": [
    {
     "name": "stdout",
     "output_type": "stream",
     "text": [
      "Author is Author\n",
      "Author is Twain\n",
      "Author is Feyman\n",
      "Author is Hamilton\n"
     ]
    }
   ],
   "source": [
    "for author, topic, pages in library:\n",
    "    print(f\"Author is {author}\")"
   ]
  },
  {
   "cell_type": "code",
   "execution_count": 10,
   "id": "658005c2",
   "metadata": {
    "execution": {
     "iopub.execute_input": "2024-06-07T05:31:56.097446Z",
     "iopub.status.busy": "2024-06-07T05:31:56.096998Z",
     "iopub.status.idle": "2024-06-07T05:31:56.102181Z",
     "shell.execute_reply": "2024-06-07T05:31:56.101139Z"
    },
    "papermill": {
     "duration": 0.022769,
     "end_time": "2024-06-07T05:31:56.105042",
     "exception": false,
     "start_time": "2024-06-07T05:31:56.082273",
     "status": "completed"
    },
    "tags": []
   },
   "outputs": [],
   "source": [
    "from datetime import datetime"
   ]
  },
  {
   "cell_type": "code",
   "execution_count": 11,
   "id": "96eeb202",
   "metadata": {
    "execution": {
     "iopub.execute_input": "2024-06-07T05:31:56.132868Z",
     "iopub.status.busy": "2024-06-07T05:31:56.132470Z",
     "iopub.status.idle": "2024-06-07T05:31:56.138041Z",
     "shell.execute_reply": "2024-06-07T05:31:56.136850Z"
    },
    "papermill": {
     "duration": 0.022582,
     "end_time": "2024-06-07T05:31:56.140833",
     "exception": false,
     "start_time": "2024-06-07T05:31:56.118251",
     "status": "completed"
    },
    "tags": []
   },
   "outputs": [],
   "source": [
    "today = datetime(year=2019, month=2, day=28)"
   ]
  },
  {
   "cell_type": "code",
   "execution_count": 12,
   "id": "4384711c",
   "metadata": {
    "execution": {
     "iopub.execute_input": "2024-06-07T05:31:56.169359Z",
     "iopub.status.busy": "2024-06-07T05:31:56.168936Z",
     "iopub.status.idle": "2024-06-07T05:31:56.176936Z",
     "shell.execute_reply": "2024-06-07T05:31:56.175567Z"
    },
    "papermill": {
     "duration": 0.025226,
     "end_time": "2024-06-07T05:31:56.179453",
     "exception": false,
     "start_time": "2024-06-07T05:31:56.154227",
     "status": "completed"
    },
    "tags": []
   },
   "outputs": [
    {
     "data": {
      "text/plain": [
       "datetime.datetime(2019, 2, 28, 0, 0)"
      ]
     },
     "execution_count": 12,
     "metadata": {},
     "output_type": "execute_result"
    }
   ],
   "source": [
    "today"
   ]
  },
  {
   "cell_type": "code",
   "execution_count": 13,
   "id": "61b971d8",
   "metadata": {
    "execution": {
     "iopub.execute_input": "2024-06-07T05:31:56.208645Z",
     "iopub.status.busy": "2024-06-07T05:31:56.208216Z",
     "iopub.status.idle": "2024-06-07T05:31:56.214213Z",
     "shell.execute_reply": "2024-06-07T05:31:56.212892Z"
    },
    "papermill": {
     "duration": 0.024259,
     "end_time": "2024-06-07T05:31:56.217317",
     "exception": false,
     "start_time": "2024-06-07T05:31:56.193058",
     "status": "completed"
    },
    "tags": []
   },
   "outputs": [
    {
     "name": "stdout",
     "output_type": "stream",
     "text": [
      "2019-02-28 00:00:00\n"
     ]
    }
   ],
   "source": [
    "print(f\"{today}\")"
   ]
  },
  {
   "cell_type": "code",
   "execution_count": 14,
   "id": "9055168a",
   "metadata": {
    "execution": {
     "iopub.execute_input": "2024-06-07T05:31:56.245875Z",
     "iopub.status.busy": "2024-06-07T05:31:56.245456Z",
     "iopub.status.idle": "2024-06-07T05:31:56.252934Z",
     "shell.execute_reply": "2024-06-07T05:31:56.251605Z"
    },
    "papermill": {
     "duration": 0.024768,
     "end_time": "2024-06-07T05:31:56.255459",
     "exception": false,
     "start_time": "2024-06-07T05:31:56.230691",
     "status": "completed"
    },
    "tags": []
   },
   "outputs": [
    {
     "data": {
      "text/plain": [
       "'/kaggle/working'"
      ]
     },
     "execution_count": 14,
     "metadata": {},
     "output_type": "execute_result"
    }
   ],
   "source": [
    "pwd"
   ]
  },
  {
   "cell_type": "code",
   "execution_count": 15,
   "id": "5da5a31e",
   "metadata": {
    "execution": {
     "iopub.execute_input": "2024-06-07T05:31:56.284453Z",
     "iopub.status.busy": "2024-06-07T05:31:56.284025Z",
     "iopub.status.idle": "2024-06-07T05:31:56.291985Z",
     "shell.execute_reply": "2024-06-07T05:31:56.290583Z"
    },
    "papermill": {
     "duration": 0.025704,
     "end_time": "2024-06-07T05:31:56.294840",
     "exception": false,
     "start_time": "2024-06-07T05:31:56.269136",
     "status": "completed"
    },
    "tags": []
   },
   "outputs": [
    {
     "name": "stdout",
     "output_type": "stream",
     "text": [
      "Writing test.txt\n"
     ]
    }
   ],
   "source": [
    "%%writefile test.txt\n",
    "Hello, this is a quick test file.\n",
    "This is a second line."
   ]
  },
  {
   "cell_type": "code",
   "execution_count": 16,
   "id": "451505c0",
   "metadata": {
    "execution": {
     "iopub.execute_input": "2024-06-07T05:31:56.323891Z",
     "iopub.status.busy": "2024-06-07T05:31:56.323490Z",
     "iopub.status.idle": "2024-06-07T05:31:56.328900Z",
     "shell.execute_reply": "2024-06-07T05:31:56.327737Z"
    },
    "papermill": {
     "duration": 0.02251,
     "end_time": "2024-06-07T05:31:56.331202",
     "exception": false,
     "start_time": "2024-06-07T05:31:56.308692",
     "status": "completed"
    },
    "tags": []
   },
   "outputs": [],
   "source": [
    "myfile = open('test.txt')"
   ]
  },
  {
   "cell_type": "code",
   "execution_count": 17,
   "id": "b745c8e7",
   "metadata": {
    "execution": {
     "iopub.execute_input": "2024-06-07T05:31:56.359703Z",
     "iopub.status.busy": "2024-06-07T05:31:56.359289Z",
     "iopub.status.idle": "2024-06-07T05:31:56.366935Z",
     "shell.execute_reply": "2024-06-07T05:31:56.365599Z"
    },
    "papermill": {
     "duration": 0.024684,
     "end_time": "2024-06-07T05:31:56.369331",
     "exception": false,
     "start_time": "2024-06-07T05:31:56.344647",
     "status": "completed"
    },
    "tags": []
   },
   "outputs": [
    {
     "data": {
      "text/plain": [
       "<_io.TextIOWrapper name='test.txt' mode='r' encoding='UTF-8'>"
      ]
     },
     "execution_count": 17,
     "metadata": {},
     "output_type": "execute_result"
    }
   ],
   "source": [
    "myfile"
   ]
  },
  {
   "cell_type": "code",
   "execution_count": 18,
   "id": "cc3758f7",
   "metadata": {
    "execution": {
     "iopub.execute_input": "2024-06-07T05:31:56.400117Z",
     "iopub.status.busy": "2024-06-07T05:31:56.397401Z",
     "iopub.status.idle": "2024-06-07T05:31:56.406781Z",
     "shell.execute_reply": "2024-06-07T05:31:56.405584Z"
    },
    "papermill": {
     "duration": 0.026338,
     "end_time": "2024-06-07T05:31:56.409131",
     "exception": false,
     "start_time": "2024-06-07T05:31:56.382793",
     "status": "completed"
    },
    "tags": []
   },
   "outputs": [
    {
     "data": {
      "text/plain": [
       "'Hello, this is a quick test file.\\nThis is a second line.\\n'"
      ]
     },
     "execution_count": 18,
     "metadata": {},
     "output_type": "execute_result"
    }
   ],
   "source": [
    "myfile.read()"
   ]
  },
  {
   "cell_type": "code",
   "execution_count": 19,
   "id": "cf9db8dd",
   "metadata": {
    "execution": {
     "iopub.execute_input": "2024-06-07T05:31:56.438486Z",
     "iopub.status.busy": "2024-06-07T05:31:56.438033Z",
     "iopub.status.idle": "2024-06-07T05:31:56.445995Z",
     "shell.execute_reply": "2024-06-07T05:31:56.444710Z"
    },
    "papermill": {
     "duration": 0.025453,
     "end_time": "2024-06-07T05:31:56.448328",
     "exception": false,
     "start_time": "2024-06-07T05:31:56.422875",
     "status": "completed"
    },
    "tags": []
   },
   "outputs": [
    {
     "data": {
      "text/plain": [
       "''"
      ]
     },
     "execution_count": 19,
     "metadata": {},
     "output_type": "execute_result"
    }
   ],
   "source": [
    "myfile.read()"
   ]
  },
  {
   "cell_type": "code",
   "execution_count": 20,
   "id": "b69e19e5",
   "metadata": {
    "execution": {
     "iopub.execute_input": "2024-06-07T05:31:56.478093Z",
     "iopub.status.busy": "2024-06-07T05:31:56.477648Z",
     "iopub.status.idle": "2024-06-07T05:31:56.490140Z",
     "shell.execute_reply": "2024-06-07T05:31:56.488602Z"
    },
    "papermill": {
     "duration": 0.032366,
     "end_time": "2024-06-07T05:31:56.494570",
     "exception": false,
     "start_time": "2024-06-07T05:31:56.462204",
     "status": "completed"
    },
    "tags": []
   },
   "outputs": [
    {
     "data": {
      "text/plain": [
       "0"
      ]
     },
     "execution_count": 20,
     "metadata": {},
     "output_type": "execute_result"
    }
   ],
   "source": [
    "myfile.seek(0)"
   ]
  },
  {
   "cell_type": "code",
   "execution_count": 21,
   "id": "42b3c667",
   "metadata": {
    "execution": {
     "iopub.execute_input": "2024-06-07T05:31:56.532027Z",
     "iopub.status.busy": "2024-06-07T05:31:56.530777Z",
     "iopub.status.idle": "2024-06-07T05:31:56.539868Z",
     "shell.execute_reply": "2024-06-07T05:31:56.538589Z"
    },
    "papermill": {
     "duration": 0.032454,
     "end_time": "2024-06-07T05:31:56.542739",
     "exception": false,
     "start_time": "2024-06-07T05:31:56.510285",
     "status": "completed"
    },
    "tags": []
   },
   "outputs": [
    {
     "data": {
      "text/plain": [
       "'Hello, this is a quick test file.\\nThis is a second line.\\n'"
      ]
     },
     "execution_count": 21,
     "metadata": {},
     "output_type": "execute_result"
    }
   ],
   "source": [
    "myfile.read()"
   ]
  },
  {
   "cell_type": "code",
   "execution_count": 22,
   "id": "6826fe86",
   "metadata": {
    "execution": {
     "iopub.execute_input": "2024-06-07T05:31:56.580013Z",
     "iopub.status.busy": "2024-06-07T05:31:56.579549Z",
     "iopub.status.idle": "2024-06-07T05:31:56.587268Z",
     "shell.execute_reply": "2024-06-07T05:31:56.585892Z"
    },
    "papermill": {
     "duration": 0.026411,
     "end_time": "2024-06-07T05:31:56.589731",
     "exception": false,
     "start_time": "2024-06-07T05:31:56.563320",
     "status": "completed"
    },
    "tags": []
   },
   "outputs": [
    {
     "data": {
      "text/plain": [
       "''"
      ]
     },
     "execution_count": 22,
     "metadata": {},
     "output_type": "execute_result"
    }
   ],
   "source": [
    "myfile.read()"
   ]
  },
  {
   "cell_type": "code",
   "execution_count": 23,
   "id": "55670c19",
   "metadata": {
    "execution": {
     "iopub.execute_input": "2024-06-07T05:31:56.630303Z",
     "iopub.status.busy": "2024-06-07T05:31:56.629832Z",
     "iopub.status.idle": "2024-06-07T05:31:56.636122Z",
     "shell.execute_reply": "2024-06-07T05:31:56.634872Z"
    },
    "papermill": {
     "duration": 0.030011,
     "end_time": "2024-06-07T05:31:56.638938",
     "exception": false,
     "start_time": "2024-06-07T05:31:56.608927",
     "status": "completed"
    },
    "tags": []
   },
   "outputs": [],
   "source": [
    "content = myfile.read()"
   ]
  },
  {
   "cell_type": "code",
   "execution_count": 24,
   "id": "2e417d62",
   "metadata": {
    "execution": {
     "iopub.execute_input": "2024-06-07T05:31:56.675297Z",
     "iopub.status.busy": "2024-06-07T05:31:56.674915Z",
     "iopub.status.idle": "2024-06-07T05:31:56.682566Z",
     "shell.execute_reply": "2024-06-07T05:31:56.680975Z"
    },
    "papermill": {
     "duration": 0.026944,
     "end_time": "2024-06-07T05:31:56.686104",
     "exception": false,
     "start_time": "2024-06-07T05:31:56.659160",
     "status": "completed"
    },
    "tags": []
   },
   "outputs": [
    {
     "data": {
      "text/plain": [
       "''"
      ]
     },
     "execution_count": 24,
     "metadata": {},
     "output_type": "execute_result"
    }
   ],
   "source": [
    "content"
   ]
  },
  {
   "cell_type": "code",
   "execution_count": 25,
   "id": "d1c14fae",
   "metadata": {
    "execution": {
     "iopub.execute_input": "2024-06-07T05:31:56.723124Z",
     "iopub.status.busy": "2024-06-07T05:31:56.722118Z",
     "iopub.status.idle": "2024-06-07T05:31:56.728891Z",
     "shell.execute_reply": "2024-06-07T05:31:56.727453Z"
    },
    "papermill": {
     "duration": 0.026919,
     "end_time": "2024-06-07T05:31:56.732084",
     "exception": false,
     "start_time": "2024-06-07T05:31:56.705165",
     "status": "completed"
    },
    "tags": []
   },
   "outputs": [
    {
     "name": "stdout",
     "output_type": "stream",
     "text": [
      "\n"
     ]
    }
   ],
   "source": [
    "print(content)"
   ]
  },
  {
   "cell_type": "code",
   "execution_count": 26,
   "id": "473c5b9f",
   "metadata": {
    "execution": {
     "iopub.execute_input": "2024-06-07T05:31:56.772687Z",
     "iopub.status.busy": "2024-06-07T05:31:56.772269Z",
     "iopub.status.idle": "2024-06-07T05:31:56.777768Z",
     "shell.execute_reply": "2024-06-07T05:31:56.776631Z"
    },
    "papermill": {
     "duration": 0.029891,
     "end_time": "2024-06-07T05:31:56.780854",
     "exception": false,
     "start_time": "2024-06-07T05:31:56.750963",
     "status": "completed"
    },
    "tags": []
   },
   "outputs": [],
   "source": [
    "myfile.close()"
   ]
  },
  {
   "cell_type": "code",
   "execution_count": 27,
   "id": "94e3570a",
   "metadata": {
    "execution": {
     "iopub.execute_input": "2024-06-07T05:31:56.817827Z",
     "iopub.status.busy": "2024-06-07T05:31:56.816704Z",
     "iopub.status.idle": "2024-06-07T05:31:56.824873Z",
     "shell.execute_reply": "2024-06-07T05:31:56.823596Z"
    },
    "papermill": {
     "duration": 0.027187,
     "end_time": "2024-06-07T05:31:56.827449",
     "exception": false,
     "start_time": "2024-06-07T05:31:56.800262",
     "status": "completed"
    },
    "tags": []
   },
   "outputs": [
    {
     "data": {
      "text/plain": [
       "''"
      ]
     },
     "execution_count": 27,
     "metadata": {},
     "output_type": "execute_result"
    }
   ],
   "source": [
    "content"
   ]
  },
  {
   "cell_type": "code",
   "execution_count": 28,
   "id": "2707ab79",
   "metadata": {
    "execution": {
     "iopub.execute_input": "2024-06-07T05:31:56.860073Z",
     "iopub.status.busy": "2024-06-07T05:31:56.859603Z",
     "iopub.status.idle": "2024-06-07T05:31:56.865736Z",
     "shell.execute_reply": "2024-06-07T05:31:56.864463Z"
    },
    "papermill": {
     "duration": 0.025937,
     "end_time": "2024-06-07T05:31:56.868614",
     "exception": false,
     "start_time": "2024-06-07T05:31:56.842677",
     "status": "completed"
    },
    "tags": []
   },
   "outputs": [],
   "source": [
    "myfile = open('test.txt')"
   ]
  },
  {
   "cell_type": "code",
   "execution_count": 29,
   "id": "092d5bd2",
   "metadata": {
    "execution": {
     "iopub.execute_input": "2024-06-07T05:31:56.901760Z",
     "iopub.status.busy": "2024-06-07T05:31:56.900705Z",
     "iopub.status.idle": "2024-06-07T05:31:56.906734Z",
     "shell.execute_reply": "2024-06-07T05:31:56.905409Z"
    },
    "papermill": {
     "duration": 0.025206,
     "end_time": "2024-06-07T05:31:56.909205",
     "exception": false,
     "start_time": "2024-06-07T05:31:56.883999",
     "status": "completed"
    },
    "tags": []
   },
   "outputs": [],
   "source": [
    "mylines = myfile.readlines()"
   ]
  },
  {
   "cell_type": "code",
   "execution_count": 30,
   "id": "30383555",
   "metadata": {
    "execution": {
     "iopub.execute_input": "2024-06-07T05:31:56.947984Z",
     "iopub.status.busy": "2024-06-07T05:31:56.946882Z",
     "iopub.status.idle": "2024-06-07T05:31:56.955434Z",
     "shell.execute_reply": "2024-06-07T05:31:56.953998Z"
    },
    "papermill": {
     "duration": 0.032167,
     "end_time": "2024-06-07T05:31:56.958212",
     "exception": false,
     "start_time": "2024-06-07T05:31:56.926045",
     "status": "completed"
    },
    "tags": []
   },
   "outputs": [
    {
     "data": {
      "text/plain": [
       "['Hello, this is a quick test file.\\n', 'This is a second line.\\n']"
      ]
     },
     "execution_count": 30,
     "metadata": {},
     "output_type": "execute_result"
    }
   ],
   "source": [
    "mylines"
   ]
  },
  {
   "cell_type": "code",
   "execution_count": 31,
   "id": "51decbd3",
   "metadata": {
    "execution": {
     "iopub.execute_input": "2024-06-07T05:31:56.991848Z",
     "iopub.status.busy": "2024-06-07T05:31:56.990664Z",
     "iopub.status.idle": "2024-06-07T05:31:56.998579Z",
     "shell.execute_reply": "2024-06-07T05:31:56.997232Z"
    },
    "papermill": {
     "duration": 0.027854,
     "end_time": "2024-06-07T05:31:57.001515",
     "exception": false,
     "start_time": "2024-06-07T05:31:56.973661",
     "status": "completed"
    },
    "tags": []
   },
   "outputs": [
    {
     "data": {
      "text/plain": [
       "list"
      ]
     },
     "execution_count": 31,
     "metadata": {},
     "output_type": "execute_result"
    }
   ],
   "source": [
    "type(mylines)"
   ]
  },
  {
   "cell_type": "code",
   "execution_count": 32,
   "id": "49a022ab",
   "metadata": {
    "execution": {
     "iopub.execute_input": "2024-06-07T05:31:57.042775Z",
     "iopub.status.busy": "2024-06-07T05:31:57.042327Z",
     "iopub.status.idle": "2024-06-07T05:31:57.050157Z",
     "shell.execute_reply": "2024-06-07T05:31:57.049050Z"
    },
    "papermill": {
     "duration": 0.032882,
     "end_time": "2024-06-07T05:31:57.053702",
     "exception": false,
     "start_time": "2024-06-07T05:31:57.020820",
     "status": "completed"
    },
    "tags": []
   },
   "outputs": [
    {
     "data": {
      "text/plain": [
       "['Hello,', 'this', 'is', 'a', 'quick', 'test', 'file.']"
      ]
     },
     "execution_count": 32,
     "metadata": {},
     "output_type": "execute_result"
    }
   ],
   "source": [
    " mylines[0].split()"
   ]
  },
  {
   "cell_type": "code",
   "execution_count": 33,
   "id": "5eda32ec",
   "metadata": {
    "execution": {
     "iopub.execute_input": "2024-06-07T05:31:57.088197Z",
     "iopub.status.busy": "2024-06-07T05:31:57.087745Z",
     "iopub.status.idle": "2024-06-07T05:31:57.094299Z",
     "shell.execute_reply": "2024-06-07T05:31:57.093009Z"
    },
    "papermill": {
     "duration": 0.027842,
     "end_time": "2024-06-07T05:31:57.097717",
     "exception": false,
     "start_time": "2024-06-07T05:31:57.069875",
     "status": "completed"
    },
    "tags": []
   },
   "outputs": [],
   "source": [
    "myfile = open('test.txt', 'w+')"
   ]
  },
  {
   "cell_type": "code",
   "execution_count": 34,
   "id": "6b1059c6",
   "metadata": {
    "execution": {
     "iopub.execute_input": "2024-06-07T05:31:57.135093Z",
     "iopub.status.busy": "2024-06-07T05:31:57.134692Z",
     "iopub.status.idle": "2024-06-07T05:31:57.144394Z",
     "shell.execute_reply": "2024-06-07T05:31:57.143130Z"
    },
    "papermill": {
     "duration": 0.029435,
     "end_time": "2024-06-07T05:31:57.146942",
     "exception": false,
     "start_time": "2024-06-07T05:31:57.117507",
     "status": "completed"
    },
    "tags": []
   },
   "outputs": [
    {
     "data": {
      "text/plain": [
       "''"
      ]
     },
     "execution_count": 34,
     "metadata": {},
     "output_type": "execute_result"
    }
   ],
   "source": [
    "myfile.read()"
   ]
  },
  {
   "cell_type": "code",
   "execution_count": 35,
   "id": "4b19769d",
   "metadata": {
    "execution": {
     "iopub.execute_input": "2024-06-07T05:31:57.244201Z",
     "iopub.status.busy": "2024-06-07T05:31:57.243844Z",
     "iopub.status.idle": "2024-06-07T05:31:57.251545Z",
     "shell.execute_reply": "2024-06-07T05:31:57.250258Z"
    },
    "papermill": {
     "duration": 0.091913,
     "end_time": "2024-06-07T05:31:57.254115",
     "exception": false,
     "start_time": "2024-06-07T05:31:57.162202",
     "status": "completed"
    },
    "tags": []
   },
   "outputs": [
    {
     "data": {
      "text/plain": [
       "17"
      ]
     },
     "execution_count": 35,
     "metadata": {},
     "output_type": "execute_result"
    }
   ],
   "source": [
    "myfile.write('My brand new text')"
   ]
  },
  {
   "cell_type": "code",
   "execution_count": 36,
   "id": "e50645d4",
   "metadata": {
    "execution": {
     "iopub.execute_input": "2024-06-07T05:31:57.286328Z",
     "iopub.status.busy": "2024-06-07T05:31:57.285870Z",
     "iopub.status.idle": "2024-06-07T05:31:57.292296Z",
     "shell.execute_reply": "2024-06-07T05:31:57.291514Z"
    },
    "papermill": {
     "duration": 0.025876,
     "end_time": "2024-06-07T05:31:57.295196",
     "exception": false,
     "start_time": "2024-06-07T05:31:57.269320",
     "status": "completed"
    },
    "tags": []
   },
   "outputs": [
    {
     "data": {
      "text/plain": [
       "0"
      ]
     },
     "execution_count": 36,
     "metadata": {},
     "output_type": "execute_result"
    }
   ],
   "source": [
    "myfile.seek(0)"
   ]
  },
  {
   "cell_type": "code",
   "execution_count": 37,
   "id": "9f6a18b6",
   "metadata": {
    "execution": {
     "iopub.execute_input": "2024-06-07T05:31:57.327816Z",
     "iopub.status.busy": "2024-06-07T05:31:57.327403Z",
     "iopub.status.idle": "2024-06-07T05:31:57.335924Z",
     "shell.execute_reply": "2024-06-07T05:31:57.334706Z"
    },
    "papermill": {
     "duration": 0.027895,
     "end_time": "2024-06-07T05:31:57.338467",
     "exception": false,
     "start_time": "2024-06-07T05:31:57.310572",
     "status": "completed"
    },
    "tags": []
   },
   "outputs": [
    {
     "data": {
      "text/plain": [
       "'My brand new text'"
      ]
     },
     "execution_count": 37,
     "metadata": {},
     "output_type": "execute_result"
    }
   ],
   "source": [
    "myfile.read()"
   ]
  },
  {
   "cell_type": "code",
   "execution_count": 38,
   "id": "59c1b554",
   "metadata": {
    "execution": {
     "iopub.execute_input": "2024-06-07T05:31:57.372903Z",
     "iopub.status.busy": "2024-06-07T05:31:57.372333Z",
     "iopub.status.idle": "2024-06-07T05:31:57.379896Z",
     "shell.execute_reply": "2024-06-07T05:31:57.378321Z"
    },
    "papermill": {
     "duration": 0.028253,
     "end_time": "2024-06-07T05:31:57.382578",
     "exception": false,
     "start_time": "2024-06-07T05:31:57.354325",
     "status": "completed"
    },
    "tags": []
   },
   "outputs": [
    {
     "name": "stdout",
     "output_type": "stream",
     "text": [
      "0\n",
      "1\n",
      "2\n"
     ]
    }
   ],
   "source": [
    "for i in range(3):\n",
    "    print(i)"
   ]
  },
  {
   "cell_type": "code",
   "execution_count": null,
   "id": "7b4311a9",
   "metadata": {
    "papermill": {
     "duration": 0.015525,
     "end_time": "2024-06-07T05:31:57.414459",
     "exception": false,
     "start_time": "2024-06-07T05:31:57.398934",
     "status": "completed"
    },
    "tags": []
   },
   "outputs": [],
   "source": []
  }
 ],
 "metadata": {
  "kaggle": {
   "accelerator": "none",
   "dataSources": [],
   "dockerImageVersionId": 30732,
   "isGpuEnabled": false,
   "isInternetEnabled": true,
   "language": "python",
   "sourceType": "notebook"
  },
  "kernelspec": {
   "display_name": "Python 3",
   "language": "python",
   "name": "python3"
  },
  "language_info": {
   "codemirror_mode": {
    "name": "ipython",
    "version": 3
   },
   "file_extension": ".py",
   "mimetype": "text/x-python",
   "name": "python",
   "nbconvert_exporter": "python",
   "pygments_lexer": "ipython3",
   "version": "3.10.13"
  },
  "papermill": {
   "default_parameters": {},
   "duration": 5.408329,
   "end_time": "2024-06-07T05:31:57.852285",
   "environment_variables": {},
   "exception": null,
   "input_path": "__notebook__.ipynb",
   "output_path": "__notebook__.ipynb",
   "parameters": {},
   "start_time": "2024-06-07T05:31:52.443956",
   "version": "2.5.0"
  }
 },
 "nbformat": 4,
 "nbformat_minor": 5
}
